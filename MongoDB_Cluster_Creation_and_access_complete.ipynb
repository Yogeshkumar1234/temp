{
 "cells": [
  {
   "cell_type": "code",
   "execution_count": 1,
   "id": "00ced963",
   "metadata": {},
   "outputs": [
    {
     "data": {
      "text/plain": [
       "{'_id': ObjectId('60d94b49fb538dd9168a7ac2'),\n",
       " 'author': 'Sidney Sheldon',\n",
       " 'about': 'Tell Me Your Dreams',\n",
       " 'tags': ['MPD', 'Murder', 'Mystery']}"
      ]
     },
     "execution_count": 1,
     "metadata": {},
     "output_type": "execute_result"
    }
   ],
   "source": [
    "#Uncomment the following line and install pymongo if you don't have pymongo already.\n",
    "#Alternatively, if you are using Anaconda, you can run \n",
    "#!pip install pymongo\n",
    "\n",
    "\n",
    "from pymongo import MongoClient\n",
    "client = MongoClient('mongodb://localhost:27017/')\n",
    "\n",
    "\n",
    "\n",
    "#This will create a Collection/Database called books if it doesn't already exist\n",
    "db = client['books']\n",
    "\n",
    "\n",
    "\n",
    "books = db.books\n",
    "\n",
    "\n",
    "\n",
    "books.insert_one({\"author\": \"Sidney Sheldon\",\n",
    "            \"about\": \"Tell Me Your Dreams\",\n",
    "            \"tags\":\n",
    "                [\"MPD\", \"Murder\", \"Mystery\"]})\n",
    "\n",
    "\n",
    "\n",
    "#This line will find all of books information that was inserted by the previous line.\n",
    "books.find_one()"
   ]
  },
  {
   "cell_type": "code",
   "execution_count": null,
   "id": "5b7ff5f6",
   "metadata": {},
   "outputs": [],
   "source": []
  }
 ],
 "metadata": {
  "kernelspec": {
   "display_name": "Python 3",
   "language": "python",
   "name": "python3"
  },
  "language_info": {
   "codemirror_mode": {
    "name": "ipython",
    "version": 3
   },
   "file_extension": ".py",
   "mimetype": "text/x-python",
   "name": "python",
   "nbconvert_exporter": "python",
   "pygments_lexer": "ipython3",
   "version": "3.8.8"
  }
 },
 "nbformat": 4,
 "nbformat_minor": 5
}
